{
  "nbformat": 4,
  "nbformat_minor": 0,
  "metadata": {
    "colab": {
      "provenance": [],
      "authorship_tag": "ABX9TyOvpcDA0/R9I7oxTKNc77bi",
      "include_colab_link": true
    },
    "kernelspec": {
      "name": "python3",
      "display_name": "Python 3"
    },
    "language_info": {
      "name": "python"
    }
  },
  "cells": [
    {
      "cell_type": "markdown",
      "metadata": {
        "id": "view-in-github",
        "colab_type": "text"
      },
      "source": [
        "<a href=\"https://colab.research.google.com/github/Mun-Robbery/Mun-Robbery/blob/main/dataset_and_dataloader.ipynb\" target=\"_parent\"><img src=\"https://colab.research.google.com/assets/colab-badge.svg\" alt=\"Open In Colab\"/></a>"
      ]
    },
    {
      "cell_type": "markdown",
      "source": [
        "epoch - 1 forward and backward pass of all training samples\n",
        "<p>\n",
        "batch_size - number of training samples in one forward & backward pass\n",
        "<p>\n",
        "number of iterations = number os passes, each pass using [batch_size] number of samples\n",
        "<p>\n",
        "e.g. 100 samples, batch_size = 20 => 100/20 = 5 iterations for 1 epoch\n"
      ],
      "metadata": {
        "id": "XOZXE3S4Xz1x"
      }
    },
    {
      "cell_type": "code",
      "execution_count": 2,
      "metadata": {
        "id": "rA9huigkXJQ8"
      },
      "outputs": [],
      "source": [
        "import torch\n",
        "import torchvision\n",
        "from torch.utils.data import Dataset, DataLoader\n",
        "import numpy as np\n",
        "import math"
      ]
    },
    {
      "cell_type": "code",
      "source": [
        "class WineDataset(Dataset):\n",
        "  def __init__(self):\n",
        "    # data loading\n",
        "    xy = np.loadtxt('/content/wine.csv', delimiter=',', dtype=np.float32, skiprows=1)\n",
        "    self.x = torch.from_numpy(xy[:, 1:])\n",
        "    self.y = torch.from_numpy(xy[:, 0]) # n_samples, 1\n",
        "    self.n_samples = xy.shape[0]\n",
        "  def __getitem__(self, index):\n",
        "    # dataset[0]\n",
        "    return self.x[index], self.y[index]\n",
        "  def __len__(self):\n",
        "    return self.n_samples"
      ],
      "metadata": {
        "id": "V56DcbywY31l"
      },
      "execution_count": 28,
      "outputs": []
    },
    {
      "cell_type": "code",
      "source": [
        "dataset = WineDataset()\n",
        "fierst_data = dataset[0]\n",
        "features, labels = fierst_data\n",
        "features, labels"
      ],
      "metadata": {
        "colab": {
          "base_uri": "https://localhost:8080/"
        },
        "id": "tGrBOq90aQqZ",
        "outputId": "8f9b5e24-11d6-4931-fd14-81f37760c93d"
      },
      "execution_count": 29,
      "outputs": [
        {
          "output_type": "execute_result",
          "data": {
            "text/plain": [
              "(tensor([1.4230e+01, 1.7100e+00, 2.4300e+00, 1.5600e+01, 1.2700e+02, 2.8000e+00,\n",
              "         3.0600e+00, 2.8000e-01, 2.2900e+00, 5.6400e+00, 1.0400e+00, 3.9200e+00,\n",
              "         1.0650e+03]),\n",
              " tensor(1.))"
            ]
          },
          "metadata": {},
          "execution_count": 29
        }
      ]
    },
    {
      "cell_type": "code",
      "source": [
        "dataloader = DataLoader(dataset=dataset, batch_size=4, shuffle=True, num_workers=2)\n",
        "dataiter = iter(dataloader)\n",
        "data = next(dataiter)\n",
        "features, labels = data\n",
        "features, labels"
      ],
      "metadata": {
        "colab": {
          "base_uri": "https://localhost:8080/"
        },
        "id": "zCMs3kySd_be",
        "outputId": "e38a4cb2-7cc0-4e69-9248-a62111656a75"
      },
      "execution_count": 33,
      "outputs": [
        {
          "output_type": "execute_result",
          "data": {
            "text/plain": [
              "(tensor([[1.3830e+01, 1.6500e+00, 2.6000e+00, 1.7200e+01, 9.4000e+01, 2.4500e+00,\n",
              "          2.9900e+00, 2.2000e-01, 2.2900e+00, 5.6000e+00, 1.2400e+00, 3.3700e+00,\n",
              "          1.2650e+03],\n",
              "         [1.3880e+01, 1.8900e+00, 2.5900e+00, 1.5000e+01, 1.0100e+02, 3.2500e+00,\n",
              "          3.5600e+00, 1.7000e-01, 1.7000e+00, 5.4300e+00, 8.8000e-01, 3.5600e+00,\n",
              "          1.0950e+03],\n",
              "         [1.4060e+01, 2.1500e+00, 2.6100e+00, 1.7600e+01, 1.2100e+02, 2.6000e+00,\n",
              "          2.5100e+00, 3.1000e-01, 1.2500e+00, 5.0500e+00, 1.0600e+00, 3.5800e+00,\n",
              "          1.2950e+03],\n",
              "         [1.2700e+01, 3.5500e+00, 2.3600e+00, 2.1500e+01, 1.0600e+02, 1.7000e+00,\n",
              "          1.2000e+00, 1.7000e-01, 8.4000e-01, 5.0000e+00, 7.8000e-01, 1.2900e+00,\n",
              "          6.0000e+02]]),\n",
              " tensor([1., 1., 1., 3.]))"
            ]
          },
          "metadata": {},
          "execution_count": 33
        }
      ]
    },
    {
      "cell_type": "code",
      "source": [
        "# tarining loop\n",
        "num_epoch = 2\n",
        "total_samples = len(dataset)\n",
        "n_iters = math.ceil(total_samples/4)\n",
        "total_samples, n_iters"
      ],
      "metadata": {
        "colab": {
          "base_uri": "https://localhost:8080/"
        },
        "id": "1CWZ1VGPfE2b",
        "outputId": "1ddc3f23-2f61-4f56-abdc-e2325e878d3d"
      },
      "execution_count": 34,
      "outputs": [
        {
          "output_type": "execute_result",
          "data": {
            "text/plain": [
              "(178, 45)"
            ]
          },
          "metadata": {},
          "execution_count": 34
        }
      ]
    },
    {
      "cell_type": "code",
      "source": [
        "for epoch in range(num_epoch):\n",
        "  for i, (inputs, labels) in enumerate(dataloader):\n",
        "    # forward backward, update\n",
        "    if (i+1) % 5 ==0:\n",
        "      print(f'epoch {epoch+1}/{num_epoch}, steps {i+1}/{n_iters}, inputs {inputs.shape}')"
      ],
      "metadata": {
        "colab": {
          "base_uri": "https://localhost:8080/"
        },
        "id": "OXakM5kQfXnr",
        "outputId": "ff9b67f9-292f-4330-8c57-822d10154949"
      },
      "execution_count": 35,
      "outputs": [
        {
          "output_type": "stream",
          "name": "stdout",
          "text": [
            "epoch 1/2, steps 5/45, inputs torch.Size([4, 13])\n",
            "epoch 1/2, steps 10/45, inputs torch.Size([4, 13])\n",
            "epoch 1/2, steps 15/45, inputs torch.Size([4, 13])\n",
            "epoch 1/2, steps 20/45, inputs torch.Size([4, 13])\n",
            "epoch 1/2, steps 25/45, inputs torch.Size([4, 13])\n",
            "epoch 1/2, steps 30/45, inputs torch.Size([4, 13])\n",
            "epoch 1/2, steps 35/45, inputs torch.Size([4, 13])\n",
            "epoch 1/2, steps 40/45, inputs torch.Size([4, 13])\n",
            "epoch 1/2, steps 45/45, inputs torch.Size([2, 13])\n",
            "epoch 2/2, steps 5/45, inputs torch.Size([4, 13])\n",
            "epoch 2/2, steps 10/45, inputs torch.Size([4, 13])\n",
            "epoch 2/2, steps 15/45, inputs torch.Size([4, 13])\n",
            "epoch 2/2, steps 20/45, inputs torch.Size([4, 13])\n",
            "epoch 2/2, steps 25/45, inputs torch.Size([4, 13])\n",
            "epoch 2/2, steps 30/45, inputs torch.Size([4, 13])\n",
            "epoch 2/2, steps 35/45, inputs torch.Size([4, 13])\n",
            "epoch 2/2, steps 40/45, inputs torch.Size([4, 13])\n",
            "epoch 2/2, steps 45/45, inputs torch.Size([2, 13])\n"
          ]
        }
      ]
    },
    {
      "cell_type": "code",
      "source": [
        "torchvision.darasets.MNIST()\n",
        "# fashion-mnist, cifar, coca"
      ],
      "metadata": {
        "id": "36GqpcmpgW5K"
      },
      "execution_count": null,
      "outputs": []
    }
  ]
}