{
  "nbformat": 4,
  "nbformat_minor": 0,
  "metadata": {
    "colab": {
      "provenance": [],
      "authorship_tag": "ABX9TyNu6+qYoYdGJLMr1BM39Jrc",
      "include_colab_link": true
    },
    "kernelspec": {
      "name": "python3",
      "display_name": "Python 3"
    },
    "language_info": {
      "name": "python"
    }
  },
  "cells": [
    {
      "cell_type": "markdown",
      "metadata": {
        "id": "view-in-github",
        "colab_type": "text"
      },
      "source": [
        "<a href=\"https://colab.research.google.com/github/Mun-Robbery/Mun-Robbery/blob/main/tensor_basic.ipynb\" target=\"_parent\"><img src=\"https://colab.research.google.com/assets/colab-badge.svg\" alt=\"Open In Colab\"/></a>"
      ]
    },
    {
      "cell_type": "code",
      "execution_count": 6,
      "metadata": {
        "colab": {
          "base_uri": "https://localhost:8080/"
        },
        "id": "7LmHqI7gA3a3",
        "outputId": "62251ff2-d99c-4e59-9ab0-587cf93bd073"
      },
      "outputs": [
        {
          "output_type": "stream",
          "name": "stdout",
          "text": [
            "tensor([[[-7.6042e-27,  4.5183e-41, -7.6042e-27],\n",
            "         [ 4.5183e-41,  0.0000e+00,  0.0000e+00]],\n",
            "\n",
            "        [[ 0.0000e+00,  0.0000e+00,  0.0000e+00],\n",
            "         [ 3.1361e-41,  1.8788e+31,  1.7220e+22]],\n",
            "\n",
            "        [[ 2.1715e-18,  1.7395e-04,  4.2467e-08],\n",
            "         [ 5.2002e+22,  2.7061e+23,  3.3063e-09]]])\n"
          ]
        }
      ],
      "source": [
        "import torch\n",
        "\n",
        "x = torch.empty(3, 2, 3)\n",
        "x"
      ]
    },
    {
      "cell_type": "code",
      "source": [
        "x = torch.rand(2, 2)\n",
        "x"
      ],
      "metadata": {
        "colab": {
          "base_uri": "https://localhost:8080/"
        },
        "id": "H2c73oNZBKbL",
        "outputId": "cfd28f49-b923-4e15-e020-848445480672"
      },
      "execution_count": 7,
      "outputs": [
        {
          "output_type": "execute_result",
          "data": {
            "text/plain": [
              "tensor([[0.1441, 0.3001],\n",
              "        [0.4082, 0.9747]])"
            ]
          },
          "metadata": {},
          "execution_count": 7
        }
      ]
    },
    {
      "cell_type": "code",
      "source": [
        "x = torch.zeros(2, 2, dtype=torch.float16) # torcg.ones()\n",
        "x"
      ],
      "metadata": {
        "colab": {
          "base_uri": "https://localhost:8080/"
        },
        "id": "xs43JqD6BcvL",
        "outputId": "11664592-f9ef-4102-d5d4-ce883ebaab72"
      },
      "execution_count": 12,
      "outputs": [
        {
          "output_type": "execute_result",
          "data": {
            "text/plain": [
              "tensor([[0., 0.],\n",
              "        [0., 0.]], dtype=torch.float16)"
            ]
          },
          "metadata": {},
          "execution_count": 12
        }
      ]
    },
    {
      "cell_type": "code",
      "source": [
        "x.size()"
      ],
      "metadata": {
        "colab": {
          "base_uri": "https://localhost:8080/"
        },
        "id": "0lNuhUXKB1i3",
        "outputId": "6bb5d315-786c-4e1a-d00f-b54f8fa926f5"
      },
      "execution_count": 13,
      "outputs": [
        {
          "output_type": "execute_result",
          "data": {
            "text/plain": [
              "torch.Size([2, 2])"
            ]
          },
          "metadata": {},
          "execution_count": 13
        }
      ]
    },
    {
      "cell_type": "code",
      "source": [
        "x = torch.tensor([2.5, 0.1])\n",
        "x"
      ],
      "metadata": {
        "colab": {
          "base_uri": "https://localhost:8080/"
        },
        "id": "on9vktEjB4mr",
        "outputId": "0d6f8065-44fe-4239-b379-7a5a07c25b17"
      },
      "execution_count": 15,
      "outputs": [
        {
          "output_type": "execute_result",
          "data": {
            "text/plain": [
              "tensor([2.5000, 0.1000])"
            ]
          },
          "metadata": {},
          "execution_count": 15
        }
      ]
    },
    {
      "cell_type": "code",
      "source": [
        "x = torch.rand(2, 2)\n",
        "y = torch.rand(2, 2)\n",
        "print(x)\n",
        "print(y)\n",
        "z = x + y\n",
        "print(z)"
      ],
      "metadata": {
        "colab": {
          "base_uri": "https://localhost:8080/"
        },
        "id": "djQD6GfDCDDl",
        "outputId": "bae694bc-f116-430a-e65f-b7fd8731758b"
      },
      "execution_count": 17,
      "outputs": [
        {
          "output_type": "stream",
          "name": "stdout",
          "text": [
            "tensor([[0.1160, 0.3318],\n",
            "        [0.3310, 0.8755]])\n",
            "tensor([[0.3515, 0.9601],\n",
            "        [0.1673, 0.6483]])\n",
            "tensor([[0.4675, 1.2919],\n",
            "        [0.4983, 1.5238]])\n"
          ]
        }
      ]
    },
    {
      "cell_type": "code",
      "source": [
        "# inplace adfition\n",
        "x = torch.rand(2, 2)\n",
        "y = torch.rand(2, 2)\n",
        "print(x)\n",
        "print(y)\n",
        "y.add_(x)\n",
        "print(y)"
      ],
      "metadata": {
        "colab": {
          "base_uri": "https://localhost:8080/"
        },
        "id": "8CV90cNdCO8y",
        "outputId": "5b4271be-34f7-4a44-ac73-b4a29d516826"
      },
      "execution_count": 18,
      "outputs": [
        {
          "output_type": "stream",
          "name": "stdout",
          "text": [
            "tensor([[0.8080, 0.5635],\n",
            "        [0.2753, 0.9711]])\n",
            "tensor([[0.7418, 0.7089],\n",
            "        [0.0617, 0.5306]])\n",
            "tensor([[1.5498, 1.2725],\n",
            "        [0.3370, 1.5017]])\n"
          ]
        }
      ]
    },
    {
      "cell_type": "code",
      "source": [
        "x = torch.rand(5, 3)\n",
        "print(x)\n",
        "print(x[:, 0])\n"
      ],
      "metadata": {
        "colab": {
          "base_uri": "https://localhost:8080/"
        },
        "id": "0GF2wd0NCgbX",
        "outputId": "7b3491b4-14a2-427a-c534-023b9f1448f0"
      },
      "execution_count": 20,
      "outputs": [
        {
          "output_type": "stream",
          "name": "stdout",
          "text": [
            "tensor([[0.1193, 0.4966, 0.9454],\n",
            "        [0.6033, 0.3737, 0.9804],\n",
            "        [0.6309, 0.3482, 0.3515],\n",
            "        [0.8989, 0.1154, 0.5858],\n",
            "        [0.3434, 0.8727, 0.2613]])\n",
            "tensor([0.1193, 0.6033, 0.6309, 0.8989, 0.3434])\n"
          ]
        }
      ]
    },
    {
      "cell_type": "code",
      "source": [
        "# reshape\n",
        "\n",
        "x = torch.rand(4, 4)\n",
        "print(x)\n",
        "y = x.view(16)\n",
        "print(y)"
      ],
      "metadata": {
        "colab": {
          "base_uri": "https://localhost:8080/"
        },
        "id": "sfLMNISZDIVz",
        "outputId": "fca407cf-53d9-45f1-f060-14386741239a"
      },
      "execution_count": 21,
      "outputs": [
        {
          "output_type": "stream",
          "name": "stdout",
          "text": [
            "tensor([[0.4741, 0.7903, 0.6451, 0.0182],\n",
            "        [0.3200, 0.0618, 0.6729, 0.2439],\n",
            "        [0.3694, 0.1325, 0.7792, 0.5392],\n",
            "        [0.1350, 0.3100, 0.5018, 0.8722]])\n",
            "tensor([0.4741, 0.7903, 0.6451, 0.0182, 0.3200, 0.0618, 0.6729, 0.2439, 0.3694,\n",
            "        0.1325, 0.7792, 0.5392, 0.1350, 0.3100, 0.5018, 0.8722])\n"
          ]
        }
      ]
    },
    {
      "cell_type": "code",
      "source": [
        "# converting\n",
        "import numpy as np\n",
        "a = torch.ones(5)\n",
        "print(a)\n",
        "b = a.numpy()\n",
        "print(type(b))"
      ],
      "metadata": {
        "colab": {
          "base_uri": "https://localhost:8080/"
        },
        "id": "1opGd0KsDjx1",
        "outputId": "4cca37ac-8e63-45de-f4a6-f95f88125a26"
      },
      "execution_count": 24,
      "outputs": [
        {
          "output_type": "stream",
          "name": "stdout",
          "text": [
            "tensor([1., 1., 1., 1., 1.])\n",
            "<class 'numpy.ndarray'>\n"
          ]
        }
      ]
    },
    {
      "cell_type": "code",
      "source": [
        "a = np.ones(5)\n",
        "print(a)\n",
        "b = torch.from_numpy(a)\n",
        "print(b)"
      ],
      "metadata": {
        "colab": {
          "base_uri": "https://localhost:8080/"
        },
        "id": "v5TJJfS_EfuQ",
        "outputId": "5074aa0f-93ed-465c-d1e4-ff2ec25bdba9"
      },
      "execution_count": 25,
      "outputs": [
        {
          "output_type": "stream",
          "name": "stdout",
          "text": [
            "[1. 1. 1. 1. 1.]\n",
            "tensor([1., 1., 1., 1., 1.], dtype=torch.float64)\n"
          ]
        }
      ]
    },
    {
      "cell_type": "code",
      "source": [
        "a += 1\n",
        "print(a)"
      ],
      "metadata": {
        "colab": {
          "base_uri": "https://localhost:8080/"
        },
        "id": "wQuukgOgEr_t",
        "outputId": "0154a55b-de8f-4c0f-e1ea-bd01569e38aa"
      },
      "execution_count": 26,
      "outputs": [
        {
          "output_type": "stream",
          "name": "stdout",
          "text": [
            "[2. 2. 2. 2. 2.]\n"
          ]
        }
      ]
    },
    {
      "cell_type": "code",
      "source": [
        "print(b)"
      ],
      "metadata": {
        "colab": {
          "base_uri": "https://localhost:8080/"
        },
        "id": "MEDhlOTREwHj",
        "outputId": "edb62abe-5c67-44e0-dc52-8af5246d8230"
      },
      "execution_count": 27,
      "outputs": [
        {
          "output_type": "stream",
          "name": "stdout",
          "text": [
            "tensor([2., 2., 2., 2., 2.], dtype=torch.float64)\n"
          ]
        }
      ]
    },
    {
      "cell_type": "code",
      "source": [
        "# moving between cpu and gpu\n",
        "if torch.cuda.is_available():\n",
        "  device = torch.device('cuda')\n",
        "  x = torch.ones(5, device=device)\n",
        "  y = torch.ones(5)\n",
        "  y = y.to(device)\n",
        "  z = x + y\n",
        "  z = z.to('cpu')"
      ],
      "metadata": {
        "id": "-FhmJBJ2E3MK"
      },
      "execution_count": 28,
      "outputs": []
    },
    {
      "cell_type": "code",
      "source": [
        "# marking that tensor will optimize\n",
        "x = torch.ones(5, requires_grad=True)\n",
        "print(x)"
      ],
      "metadata": {
        "colab": {
          "base_uri": "https://localhost:8080/"
        },
        "id": "u9qQYFB0Fhfv",
        "outputId": "7ec4f561-5344-431b-c834-b7fa47806f96"
      },
      "execution_count": 29,
      "outputs": [
        {
          "output_type": "stream",
          "name": "stdout",
          "text": [
            "tensor([1., 1., 1., 1., 1.], requires_grad=True)\n"
          ]
        }
      ]
    }
  ]
}